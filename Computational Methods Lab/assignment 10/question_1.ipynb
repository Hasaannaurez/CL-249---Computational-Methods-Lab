{
 "cells": [
  {
   "cell_type": "code",
   "execution_count": 146,
   "id": "9d508cd5",
   "metadata": {},
   "outputs": [],
   "source": [
    "import numpy as np\n",
    "import pandas as pd"
   ]
  },
  {
   "cell_type": "code",
   "execution_count": 147,
   "id": "4f2fe6d0",
   "metadata": {},
   "outputs": [
    {
     "data": {
      "application/vnd.microsoft.datawrangler.viewer.v0+json": {
       "columns": [
        {
         "name": "index",
         "rawType": "int64",
         "type": "integer"
        },
        {
         "name": "0",
         "rawType": "int64",
         "type": "integer"
        },
        {
         "name": "1",
         "rawType": "int64",
         "type": "integer"
        },
        {
         "name": "2",
         "rawType": "int64",
         "type": "integer"
        },
        {
         "name": "3",
         "rawType": "int64",
         "type": "integer"
        },
        {
         "name": "4",
         "rawType": "float64",
         "type": "float"
        }
       ],
       "ref": "1122260c-5d51-49a4-a990-ab91e2aec9e3",
       "rows": [
        [
         "0",
         "25",
         "4",
         "10",
         "1",
         "3.2"
        ],
        [
         "1",
         "30",
         "4",
         "20",
         "1",
         "5.8"
        ],
        [
         "2",
         "35",
         "6",
         "25",
         "1",
         "7.1"
        ],
        [
         "3",
         "40",
         "6",
         "30",
         "1",
         "8.5"
        ],
        [
         "4",
         "45",
         "8",
         "40",
         "1",
         "10.2"
        ],
        [
         "5",
         "50",
         "8",
         "45",
         "1",
         "11.3"
        ],
        [
         "6",
         "55",
         "10",
         "50",
         "1",
         "12.0"
        ]
       ],
       "shape": {
        "columns": 5,
        "rows": 7
       }
      },
      "text/html": [
       "<div>\n",
       "<style scoped>\n",
       "    .dataframe tbody tr th:only-of-type {\n",
       "        vertical-align: middle;\n",
       "    }\n",
       "\n",
       "    .dataframe tbody tr th {\n",
       "        vertical-align: top;\n",
       "    }\n",
       "\n",
       "    .dataframe thead th {\n",
       "        text-align: right;\n",
       "    }\n",
       "</style>\n",
       "<table border=\"1\" class=\"dataframe\">\n",
       "  <thead>\n",
       "    <tr style=\"text-align: right;\">\n",
       "      <th></th>\n",
       "      <th>0</th>\n",
       "      <th>1</th>\n",
       "      <th>2</th>\n",
       "      <th>3</th>\n",
       "      <th>4</th>\n",
       "    </tr>\n",
       "  </thead>\n",
       "  <tbody>\n",
       "    <tr>\n",
       "      <th>0</th>\n",
       "      <td>25</td>\n",
       "      <td>4</td>\n",
       "      <td>10</td>\n",
       "      <td>1</td>\n",
       "      <td>3.2</td>\n",
       "    </tr>\n",
       "    <tr>\n",
       "      <th>1</th>\n",
       "      <td>30</td>\n",
       "      <td>4</td>\n",
       "      <td>20</td>\n",
       "      <td>1</td>\n",
       "      <td>5.8</td>\n",
       "    </tr>\n",
       "    <tr>\n",
       "      <th>2</th>\n",
       "      <td>35</td>\n",
       "      <td>6</td>\n",
       "      <td>25</td>\n",
       "      <td>1</td>\n",
       "      <td>7.1</td>\n",
       "    </tr>\n",
       "    <tr>\n",
       "      <th>3</th>\n",
       "      <td>40</td>\n",
       "      <td>6</td>\n",
       "      <td>30</td>\n",
       "      <td>1</td>\n",
       "      <td>8.5</td>\n",
       "    </tr>\n",
       "    <tr>\n",
       "      <th>4</th>\n",
       "      <td>45</td>\n",
       "      <td>8</td>\n",
       "      <td>40</td>\n",
       "      <td>1</td>\n",
       "      <td>10.2</td>\n",
       "    </tr>\n",
       "    <tr>\n",
       "      <th>5</th>\n",
       "      <td>50</td>\n",
       "      <td>8</td>\n",
       "      <td>45</td>\n",
       "      <td>1</td>\n",
       "      <td>11.3</td>\n",
       "    </tr>\n",
       "    <tr>\n",
       "      <th>6</th>\n",
       "      <td>55</td>\n",
       "      <td>10</td>\n",
       "      <td>50</td>\n",
       "      <td>1</td>\n",
       "      <td>12.0</td>\n",
       "    </tr>\n",
       "  </tbody>\n",
       "</table>\n",
       "</div>"
      ],
      "text/plain": [
       "    0   1   2  3     4\n",
       "0  25   4  10  1   3.2\n",
       "1  30   4  20  1   5.8\n",
       "2  35   6  25  1   7.1\n",
       "3  40   6  30  1   8.5\n",
       "4  45   8  40  1  10.2\n",
       "5  50   8  45  1  11.3\n",
       "6  55  10  50  1  12.0"
      ]
     },
     "execution_count": 147,
     "metadata": {},
     "output_type": "execute_result"
    }
   ],
   "source": [
    "df = pd.DataFrame([\n",
    " [25, 4, 10, 1, 3.2],\n",
    " [30, 4, 20, 1,  5.8],\n",
    " [35, 6, 25, 1,  7.1],\n",
    " [40, 6, 30, 1,  8.5],\n",
    " [45, 8, 40, 1,  10.2],\n",
    " [50, 8, 45, 1,  11.3],\n",
    " [55, 10, 50, 1,  12.0]])\n",
    "\n",
    "\n",
    "df\n"
   ]
  },
  {
   "cell_type": "code",
   "execution_count": 148,
   "id": "f95d808b",
   "metadata": {},
   "outputs": [
    {
     "name": "stdout",
     "output_type": "stream",
     "text": [
      "(7, 4)\n",
      "7\n"
     ]
    }
   ],
   "source": [
    "y = df.iloc[:, 4].copy()\n",
    "x = df.iloc[:, :4].copy()\n",
    "print(x.shape)\n",
    "\n",
    "print(y.size)"
   ]
  },
  {
   "cell_type": "code",
   "execution_count": 149,
   "id": "e1ca8cc3",
   "metadata": {},
   "outputs": [],
   "source": [
    "## we have to form y = a1x1+ a2x2 + a3x3 + a4\n",
    "def get_RSS(y, coeff, x):\n",
    "    print(x.shape, y.shape, coeff.shape)\n",
    "    return (y-(x*coeff))\n",
    "\n",
    "def get_Residual(y, coeff, x):\n",
    "    # Ensure all are numpy arrays\n",
    "    if isinstance(x, pd.DataFrame):\n",
    "        x = x.values\n",
    "    if isinstance(y, (pd.Series, pd.DataFrame)):\n",
    "        y = y.values.reshape(-1, 1)\n",
    "\n",
    "    out = x @ coeff   # matrix multiplication\n",
    "    r = y - out\n",
    "    return r"
   ]
  },
  {
   "cell_type": "code",
   "execution_count": 150,
   "id": "9d366991",
   "metadata": {},
   "outputs": [
    {
     "name": "stdout",
     "output_type": "stream",
     "text": [
      "[[ 0.03636364]\n",
      " [-0.30909091]\n",
      " [ 0.23818182]\n",
      " [ 1.39090909]]\n"
     ]
    }
   ],
   "source": [
    "def find_coeff(x, y, max_iter=10000, tol=1e-6):\n",
    "    X = np.asarray(x)\n",
    "    Y = np.asarray(y).reshape(-1,1)\n",
    "\n",
    "    coeff_old = np.zeros((X.shape[1],1))\n",
    "\n",
    "    for itr in range(max_iter):\n",
    "        try:\n",
    "            r = get_Residual(Y, coeff_old, X)\n",
    "            JTJ_inv = np.linalg.inv(X.T @ X)\n",
    "            delta = JTJ_inv @ X.T @ r\n",
    "            coeff_new = coeff_old + delta\n",
    "\n",
    "            # if np.linalg.norm(delta) < tol:\n",
    "            #     print(f\"Converged at iteration {itr}\")\n",
    "            #     break\n",
    "\n",
    "            coeff_old = coeff_new\n",
    "\n",
    "        except np.linalg.LinAlgError:\n",
    "            print(\"Matrix inversion failed — XᵗX may be singular.\")\n",
    "            break\n",
    "\n",
    "    return coeff_old\n",
    "\n",
    "\n",
    "\n",
    "\n",
    "# find_coeff(x, y)\n",
    "\n",
    "# def find_coeff(x, y, max_iter=1000, tol=1e-6, lr=0.001):\n",
    "#     coeff_old = np.zeros((x.shape[1], 1))\n",
    "#     X = np.asarray(x)\n",
    "#     Y = np.asarray(y).reshape(-1, 1)\n",
    "    \n",
    "#     for itr in range(max_iter):\n",
    "#         try:\n",
    "#             r = Y - X @ coeff_old\n",
    "#             JTJ_inv = np.linalg.pinv(X.T @ X)\n",
    "#             delta = JTJ_inv @ X.T @ r\n",
    "\n",
    "#             coeff_new = coeff_old - lr * delta\n",
    "\n",
    "#             if np.linalg.norm(delta) < tol:\n",
    "#                 print(f\"Converged at iteration {itr}\")\n",
    "#                 break\n",
    "\n",
    "#             coeff_old = coeff_new\n",
    "\n",
    "#         except np.linalg.LinAlgError:\n",
    "#             print(\"Matrix inversion failed — XᵗX may be singular.\")\n",
    "#             break\n",
    "\n",
    "#     return coeff_old\n",
    "\n",
    "\n",
    "coeff_final = find_coeff(x,y)\n",
    "\n",
    "print(coeff_final)"
   ]
  },
  {
   "cell_type": "code",
   "execution_count": 151,
   "id": "cf9806f2",
   "metadata": {},
   "outputs": [
    {
     "name": "stdout",
     "output_type": "stream",
     "text": [
      "[[ 0.03636364]\n",
      " [-0.30909091]\n",
      " [ 0.23818182]\n",
      " [ 1.39090909]]\n"
     ]
    },
    {
     "data": {
      "text/plain": [
       "array([11.45454545])"
      ]
     },
     "execution_count": 151,
     "metadata": {},
     "output_type": "execute_result"
    }
   ],
   "source": [
    "print(coeff_final)\n",
    "\n",
    "def predict(x, coeff = coeff_final):\n",
    "    return x.dot(coeff)\n",
    "\n",
    "predict(np.array([50, 8, 45, 1]))"
   ]
  },
  {
   "cell_type": "code",
   "execution_count": 152,
   "id": "27d90ac5",
   "metadata": {},
   "outputs": [
    {
     "name": "stdout",
     "output_type": "stream",
     "text": [
      "   Feature     F_value   p_value\n",
      "0        2  488.768777  0.000004\n",
      "1        0  200.666748  0.000032\n",
      "2        1   39.599869  0.001490\n",
      "3        3    0.000000  1.000000\n",
      "\n",
      "Most important feature: 2.0\n",
      "Therefore the feature that is most important is : Equilibrium concentration (Ce)\n"
     ]
    }
   ],
   "source": [
    "from sklearn.feature_selection import f_regression\n",
    "\n",
    "\n",
    "\n",
    "if isinstance(y, pd.Series):\n",
    "    y = y.values\n",
    "elif isinstance(y, pd.DataFrame):\n",
    "    y = y.values.ravel()\n",
    "\n",
    "# Compute F-statistics and p-values\n",
    "F_values, p_values = f_regression(x, y)\n",
    "\n",
    "# Make a nice table\n",
    "if isinstance(x, pd.DataFrame):\n",
    "    feature_names = x.columns\n",
    "else:\n",
    "    feature_names = [f\"Feature_{i}\" for i in range(x.shape[1])]\n",
    "\n",
    "results = pd.DataFrame({\n",
    "    'Feature': feature_names,\n",
    "    'F_value': F_values,\n",
    "    'p_value': p_values\n",
    "})\n",
    "\n",
    "# Sort by F-value (descending)\n",
    "results = results.sort_values(by='F_value', ascending=False).reset_index(drop=True)\n",
    "\n",
    "print(results)\n",
    "print(\"\\nMost important feature:\", results.iloc[0]['Feature'])\n",
    "\n",
    "print(\"Therefore the feature that is most important is : Equilibrium concentration (Ce)\")\n",
    "\n",
    "## high f test value suggest that the particular feature is highly correlated to the output\n",
    "## p-value -> probality of seeing such a f-value by a mere chance\n",
    "# therefore in this question f_value for feature->ce  = 488.76, that is highest among all others, and the corresponding p-value is very low\n",
    "## therefore high f value shows that feature->ce is most significant to decide adsoption capacity, and the probablity of getting such a high value for f-test by a mere chance is very low\n",
    "## which mean it has not happen by mere chance, therefore equilibrium concentration is the most signifiant feature to get the adsorption capacity\n"
   ]
  },
  {
   "cell_type": "code",
   "execution_count": 154,
   "id": "0f11822a",
   "metadata": {},
   "outputs": [
    {
     "name": "stdout",
     "output_type": "stream",
     "text": [
      "    0   1   2\n",
      "0  25   4  10\n",
      "1  30   4  20\n",
      "2  35   6  25\n",
      "3  40   6  30\n",
      "4  45   8  40\n",
      "5  50   8  45\n",
      "6  55  10  50\n",
      "(7, 3) (7,)\n",
      "[ 0.03636364 -0.30909091  0.23818182] 1.3909090909090809\n",
      "[11.45454545]\n"
     ]
    }
   ],
   "source": [
    "# for verifying\n",
    "\n",
    "from sklearn.linear_model import LinearRegression\n",
    "# print(x)\n",
    "\n",
    "x_ = x.iloc[:, :3].copy()\n",
    "print(x_)\n",
    "\n",
    "model_ = LinearRegression()\n",
    "print(x_.shape, y.shape)\n",
    "model_.fit(x_, y)\n",
    "print(model_.coef_, model_.intercept_)\n",
    "sample = np.array([50, 8, 45]).reshape(1, -1)\n",
    "prediction = model_.predict(sample)\n",
    "print(prediction)"
   ]
  }
 ],
 "metadata": {
  "kernelspec": {
   "display_name": "cl249",
   "language": "python",
   "name": "python3"
  },
  "language_info": {
   "codemirror_mode": {
    "name": "ipython",
    "version": 3
   },
   "file_extension": ".py",
   "mimetype": "text/x-python",
   "name": "python",
   "nbconvert_exporter": "python",
   "pygments_lexer": "ipython3",
   "version": "3.12.8"
  }
 },
 "nbformat": 4,
 "nbformat_minor": 5
}
