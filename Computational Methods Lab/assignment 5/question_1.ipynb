{
 "cells": [
  {
   "cell_type": "code",
   "execution_count": 37,
   "id": "4da1a4b1",
   "metadata": {},
   "outputs": [],
   "source": [
    "import numpy as np"
   ]
  },
  {
   "cell_type": "code",
   "execution_count": 48,
   "id": "4e0b287a",
   "metadata": {},
   "outputs": [
    {
     "data": {
      "text/plain": [
       "((10,), (10,))"
      ]
     },
     "execution_count": 48,
     "metadata": {},
     "output_type": "execute_result"
    }
   ],
   "source": [
    "t = np.array([0, 1, 5.5, 10, 12, 14, 16, 18, 20, 24])\n",
    "c = np.array([1, 1.5, 2.3, 2.1, 4, 5, 5.5, 5, 3, 1.2])\n",
    "t.shape, c.shape"
   ]
  },
  {
   "cell_type": "code",
   "execution_count": 49,
   "id": "25b001f4",
   "metadata": {},
   "outputs": [],
   "source": [
    "def Q(x):\n",
    "    return 10 + 10*np.sin((2*np.pi/24)*(x-10))\n",
    "\n",
    "def numerator(x):\n",
    "    n = 8\n",
    "    i = 0\n",
    "    for i in range(n):\n",
    "        if(t[i]==x): break\n",
    "    return Q(x)*c[i]"
   ]
  },
  {
   "cell_type": "code",
   "execution_count": 50,
   "id": "cba541fa",
   "metadata": {},
   "outputs": [],
   "source": [
    "def lagrange_interpolation(x, y, n, x_p):\n",
    "    y_p = 0\n",
    "    for i in range(n):\n",
    "        term = y[i]\n",
    "        for j in range(n):\n",
    "            if(i!=j):\n",
    "                term = term * (x_p - x[j])/(x[i]-x[j])\n",
    "        y_p += term\n",
    "    return round(y_p, 3)"
   ]
  },
  {
   "cell_type": "code",
   "execution_count": 51,
   "id": "98681d15",
   "metadata": {},
   "outputs": [],
   "source": [
    "def c_t(t):\n",
    "    lagrange_interpolation(t, c, len(t), t)"
   ]
  },
  {
   "cell_type": "code",
   "execution_count": 52,
   "id": "c128f2a6",
   "metadata": {},
   "outputs": [],
   "source": [
    "def helper_t_simson_1_by_3(f, n, x_0, x_1, x_2):\n",
    "    return ((x_2-x_0)/n*3)*(f(t_0) + 4*f(t_1) + f(t_2))\n",
    "\n",
    "    \n",
    "\n",
    "def simpson_1_by_3(f, n, t):\n",
    "    h = (t[n-1] - t[0])/n\n",
    "    sum = f(t[0]) + f(t[n-1])\n",
    "    for i in range(1, n+1):\n",
    "        if(i%2==0):\n",
    "            sum += 4*f(t[i])\n",
    "        else:\n",
    "            sum += 2*f(t[i])\n",
    "    return sum"
   ]
  },
  {
   "cell_type": "code",
   "execution_count": 56,
   "id": "75b5400b",
   "metadata": {},
   "outputs": [
    {
     "name": "stdout",
     "output_type": "stream",
     "text": [
      " Integral value : 0.21679240075516606\n"
     ]
    }
   ],
   "source": [
    "print(f\" Integral value : {simpson_1_by_3(Q, 8, t[:10])/simpson_1_by_3(numerator, 8, t[:10])}\")"
   ]
  },
  {
   "cell_type": "code",
   "execution_count": 58,
   "id": "e6a50fc6",
   "metadata": {},
   "outputs": [
    {
     "name": "stdout",
     "output_type": "stream",
     "text": [
      "Flow weighted average concentration (c*): 3.959114102892932\n"
     ]
    }
   ],
   "source": [
    "import math\n",
    "\n",
    "t =[0,1,5.5,10,12,14,16,18,20,24] # time in hours\n",
    "c =[1,1.5,2.3,2.1,4,5,5.5,5,3,1.2] # concentration in mg/L\n",
    "\n",
    "# The flowrate in m^3/s can be computed using\n",
    "# Q = 10 +10 *Sin((2*pi*(t-10))/24)\n",
    "\n",
    "Q = [10 + 10 * math.sin(2 * math.pi * (ti - 10)/24) for ti in t]\n",
    "\n",
    "QC = [ci * Qi for ci, Qi in zip(c, Q)]\n",
    "\n",
    "#To use a numerical integration method to determine the flow weighted average concentration leaving the reactor\n",
    "\n",
    "# c* = ∫(c(t) * Q(t)) dt / ∫Q(t) dt , where t ∈ [0,24]\n",
    "\n",
    "#using simpsons 1/3rd composition rule\n",
    "\n",
    "def simpsons_rule(x, y):\n",
    "    n = len(x)\n",
    "    if n % 2 != 0:\n",
    "        raise ValueError(\"Simpson's rule requires an even number of intervals\")\n",
    "    h = (x[-1] - x[0]) / (n - 1)\n",
    "    integral = y[0] + y[-1]\n",
    "    for i in range(1, n):\n",
    "        if i % 2 == 0:\n",
    "            integral += 2 * y[i]\n",
    "        else:\n",
    "            integral += 4 * y[i]\n",
    "    return integral * h / 3\n",
    "\n",
    "denominator = simpsons_rule(t, Q)\n",
    "numerator = simpsons_rule(t, QC)\n",
    "\n",
    "c_star = numerator / denominator\n",
    "print(\"Flow weighted average concentration (c*):\", c_star)"
   ]
  }
 ],
 "metadata": {
  "kernelspec": {
   "display_name": "cl249",
   "language": "python",
   "name": "python3"
  },
  "language_info": {
   "codemirror_mode": {
    "name": "ipython",
    "version": 3
   },
   "file_extension": ".py",
   "mimetype": "text/x-python",
   "name": "python",
   "nbconvert_exporter": "python",
   "pygments_lexer": "ipython3",
   "version": "3.12.8"
  }
 },
 "nbformat": 4,
 "nbformat_minor": 5
}
