{
 "cells": [
  {
   "cell_type": "code",
   "execution_count": 2,
   "id": "25b32eb2",
   "metadata": {},
   "outputs": [],
   "source": [
    "import numpy as np"
   ]
  },
  {
   "cell_type": "code",
   "execution_count": 3,
   "id": "647ccef3",
   "metadata": {},
   "outputs": [],
   "source": [
    "def f_3(x):\n",
    "    return (np.exp(x)*np.sin(x))/(1+ (x**2))"
   ]
  },
  {
   "cell_type": "code",
   "execution_count": 8,
   "id": "1cb49dd0",
   "metadata": {},
   "outputs": [],
   "source": [
    "def gaussian_quadrature(a, b, n, nodes, weights):\n",
    "    sum  = 0\n",
    "    for i in range(0, n):\n",
    "        x_i = (((b-a)/2)*nodes[i]) + (a+b/2)\n",
    "        f_x = f_3(x_i)\n",
    "        sum += weights[i]* f_x\n",
    "    return ((b-a)/2)*sum"
   ]
  },
  {
   "cell_type": "code",
   "execution_count": 12,
   "id": "a1351771",
   "metadata": {},
   "outputs": [
    {
     "data": {
      "text/plain": [
       "([[0.57735026919, -0.57735026919],\n",
       "  [-0.7745966692, 0, 0.7745966692],\n",
       "  [-0.8611363116, -0.3399810436, 0.3399810436, 0.8611363116]],\n",
       " [[1.0, 1.0],\n",
       "  [0.5555555556, 0.8888888889, 0.5555555556],\n",
       "  [0.3478548451, 0.6521451549, 0.6521451549, 0.3478548451]])"
      ]
     },
     "execution_count": 12,
     "metadata": {},
     "output_type": "execute_result"
    }
   ],
   "source": [
    "nodes = [\n",
    "    [0.57735026919, -0.57735026919],\n",
    "    [-0.7745966692, 0, 0.7745966692],\n",
    "    [-0.8611363116, -0.3399810436, 0.3399810436, 0.8611363116]\n",
    "]\n",
    "\n",
    "weights = [\n",
    "    [1.0, 1.0],\n",
    "    [0.5555555556, 0.8888888889, 0.5555555556],\n",
    "    [0.3478548451, 0.6521451549, 0.6521451549, 0.3478548451]\n",
    "]\n",
    "\n",
    "\n",
    "\n",
    "nodes, weights"
   ]
  },
  {
   "cell_type": "code",
   "execution_count": 14,
   "id": "95c563ec",
   "metadata": {},
   "outputs": [
    {
     "name": "stdout",
     "output_type": "stream",
     "text": [
      "Integral for the given function using 2 nodes = 1.9192422260269506\n",
      "Integral for the given function using 3 nodes = 1.9379955451679993\n",
      "Integral for the given function using 4 nodes = 1.940607160703761\n"
     ]
    }
   ],
   "source": [
    "for i in range(len(nodes)):\n",
    "    nodes_array = np.array(nodes[i])\n",
    "    weights_array = np.array(weights[i])\n",
    "    a = 0\n",
    "    b = 2\n",
    "    n = len(nodes[i])\n",
    "    # print(n)\n",
    "    # print(nodes[i])\n",
    "    # print(weights[i])\n",
    "    answer = gaussian_quadrature(a, b, n, nodes_array, weights_array)\n",
    "    print(f\"Integral for the given function using {n} nodes = {answer}\")\n"
   ]
  },
  {
   "cell_type": "code",
   "execution_count": null,
   "id": "2aea1dea",
   "metadata": {},
   "outputs": [],
   "source": []
  },
  {
   "cell_type": "code",
   "execution_count": null,
   "id": "be6c65b5",
   "metadata": {},
   "outputs": [],
   "source": []
  }
 ],
 "metadata": {
  "kernelspec": {
   "display_name": "cl249",
   "language": "python",
   "name": "python3"
  },
  "language_info": {
   "codemirror_mode": {
    "name": "ipython",
    "version": 3
   },
   "file_extension": ".py",
   "mimetype": "text/x-python",
   "name": "python",
   "nbconvert_exporter": "python",
   "pygments_lexer": "ipython3",
   "version": "3.12.8"
  }
 },
 "nbformat": 4,
 "nbformat_minor": 5
}
