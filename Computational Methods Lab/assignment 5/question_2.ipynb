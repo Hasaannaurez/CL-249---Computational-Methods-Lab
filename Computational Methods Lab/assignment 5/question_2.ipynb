{
 "cells": [
  {
   "cell_type": "code",
   "execution_count": 14,
   "id": "e3f9d7e8",
   "metadata": {},
   "outputs": [],
   "source": [
    "import numpy as np"
   ]
  },
  {
   "cell_type": "code",
   "execution_count": 20,
   "id": "649836db",
   "metadata": {},
   "outputs": [],
   "source": [
    "def f_3_x_0(x):\n",
    "    return x**2\n",
    "\n",
    "def f_3_x_1(x):\n",
    "    return 1\n",
    "\n",
    "def f_3_x_2(x):\n",
    "    return x\n",
    "\n",
    "def f_y(y, integration_x):\n",
    "    return integration_x[0] - 3*integration_x[1]*(y**2) + integration_x[2]*(y**3)"
   ]
  },
  {
   "cell_type": "code",
   "execution_count": 42,
   "id": "63832a2c",
   "metadata": {},
   "outputs": [],
   "source": [
    "def helper_x(f, n, x_0, x_1, x_2):\n",
    "    return ((x_2-x_0)/n*2)*(f(x_0) + 2*f(x_1) + f(x_2))\n",
    "\n",
    "def helper_y(f, n, y_0, y_1, y_2, integration_x):\n",
    "    return ((y_2-y_0)/n*2)*(f(y_0, integration_x) + 2*f(y_1, integration_x) + f(y_2, integration_x))\n",
    "\n",
    "\n",
    "def trapezoidal_method(n, x_0, x_2, y_0, y_2):\n",
    "    del_x = (x_2-x_0)/n\n",
    "    x_1 = x_0 + del_x\n",
    "\n",
    "    integration_x = np.array([0, 0, 0])\n",
    "    integration_x[0] = helper_x(f_3_x_0, n,  x_0, x_1, x_2)\n",
    "    integration_x[1] = helper_x(f_3_x_1, n,  x_0, x_1, x_2)\n",
    "    integration_x[2] = helper_x(f_3_x_2, n,  x_0, x_1, x_2)\n",
    "    \n",
    "    print(integration_x)\n",
    "    del_y = (y_2-y_0)/n\n",
    "    y_1 = y_0 + del_y\n",
    "\n",
    "    answer = helper_y(f_y, n, y_0, y_1, y_2, integration_x)\n",
    "\n",
    "    return answer\n"
   ]
  },
  {
   "cell_type": "code",
   "execution_count": 71,
   "id": "bb91dbff",
   "metadata": {},
   "outputs": [],
   "source": [
    "def helper_x_simson(f, n, x_0, x_1, x_2):\n",
    "    return ((x_2-x_0)/n*3)*(f(x_0) + 4*f(x_1) + f(x_2))\n",
    "\n",
    "def helper_y_simson(f, n, y_0, y_1, y_2, integration_x):\n",
    "    return ((y_2-y_0)/n*3)*(f(y_0, integration_x) + 4*f(y_1, integration_x) + f(y_2, integration_x))\n",
    "\n",
    "def simpson_1_by_3(n, x_0, x_2, y_0, y_2):\n",
    "    del_x = (x_2-x_0)/n\n",
    "    x_1 = x_0 + del_x\n",
    "\n",
    "    integration_x = np.array([0, 0, 0])\n",
    "    integration_x[0] = helper_x_simson(f_3_x_0, n,  x_0, x_1, x_2)\n",
    "    integration_x[1] = helper_x_simson(f_3_x_1, n,  x_0, x_1, x_2)\n",
    "    integration_x[2] = helper_x_simson(f_3_x_2, n,  x_0, x_1, x_2)\n",
    "    \n",
    "    # print(integration_x)\n",
    "    del_y = (y_2-y_0)/n\n",
    "    y_1 = y_0 + del_y\n",
    "\n",
    "    answer = helper_y_simson(f_y, n, y_0, y_1, y_2, integration_x)\n",
    "\n",
    "    return answer"
   ]
  },
  {
   "cell_type": "code",
   "execution_count": 72,
   "id": "87242c1a",
   "metadata": {},
   "outputs": [
    {
     "name": "stdout",
     "output_type": "stream",
     "text": [
      "[96 16 32]\n"
     ]
    }
   ],
   "source": [
    "answer_trapezoid =(trapezoidal_method(2, 0, 4, -2, 2))\n",
    "answer_simpson = (simpson_1_by_3(2, 0, 4, -2, 2))\n",
    "actual_answer = float(64/3)"
   ]
  },
  {
   "cell_type": "code",
   "execution_count": 73,
   "id": "e5c3db3a",
   "metadata": {},
   "outputs": [
    {
     "name": "stdout",
     "output_type": "stream",
     "text": [
      "99.99999999999999 -8000.000000000001\n"
     ]
    }
   ],
   "source": [
    "percent_error_trapezoid = (actual_answer - answer_trapezoid)*100/actual_answer\n",
    "percent_error_simpson = (actual_answer - answer_simpson)*100/actual_answer\n",
    "print(percent_error_trapezoid, percent_error_simpson)"
   ]
  },
  {
   "cell_type": "code",
   "execution_count": null,
   "id": "a87ca1c4",
   "metadata": {},
   "outputs": [],
   "source": []
  },
  {
   "cell_type": "code",
   "execution_count": null,
   "id": "44acef30",
   "metadata": {},
   "outputs": [],
   "source": []
  }
 ],
 "metadata": {
  "kernelspec": {
   "display_name": "cl249",
   "language": "python",
   "name": "python3"
  },
  "language_info": {
   "codemirror_mode": {
    "name": "ipython",
    "version": 3
   },
   "file_extension": ".py",
   "mimetype": "text/x-python",
   "name": "python",
   "nbconvert_exporter": "python",
   "pygments_lexer": "ipython3",
   "version": "3.12.8"
  }
 },
 "nbformat": 4,
 "nbformat_minor": 5
}
