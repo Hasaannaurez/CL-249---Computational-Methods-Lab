{
 "cells": [
  {
   "cell_type": "code",
   "execution_count": 1,
   "id": "8a19e3b2",
   "metadata": {},
   "outputs": [],
   "source": [
    "import numpy as np\n",
    "import math"
   ]
  },
  {
   "cell_type": "code",
   "execution_count": 2,
   "id": "d66ebdfc",
   "metadata": {},
   "outputs": [],
   "source": [
    "def f1(x):\n",
    "    return (math.exp(-x) - x)\n",
    "\n",
    "def f1_prime(x):\n",
    "    return (-1*math.exp(-x) -1)\n",
    "\n",
    "def g1(x):\n",
    "    return math.exp(-x)"
   ]
  },
  {
   "cell_type": "code",
   "execution_count": 3,
   "id": "f58f57e2",
   "metadata": {},
   "outputs": [],
   "source": [
    "def f2(x):\n",
    "    return (x*x*x -x -2)\n",
    "\n",
    "def f2_prime(x):\n",
    "    return (3*x*x -1)\n",
    "\n",
    "def g2(x):\n",
    "    return (2/((x*x)-1))"
   ]
  },
  {
   "cell_type": "code",
   "execution_count": 4,
   "id": "5cf4e874",
   "metadata": {},
   "outputs": [],
   "source": [
    "def f3(x):\n",
    "    return (math.cos(x)-x)\n",
    "\n",
    "def f3_prime(x):\n",
    "    return (-1*math.sin(x)-1)\n",
    "\n",
    "def g3(x):\n",
    "    return math.cos(x)"
   ]
  },
  {
   "cell_type": "code",
   "execution_count": 5,
   "id": "00a766ea",
   "metadata": {},
   "outputs": [],
   "source": [
    "def f4(x):\n",
    "    return x*x*x -2*x*x +4\n",
    "\n",
    "def f4_prime(x):\n",
    "    return 3*x*x - 4*x\n",
    "\n",
    "def g4(x):\n",
    "    # return math.sqrt((x*x*x +4)/2)\n",
    "    return ((-4/(x*x)) +2)"
   ]
  },
  {
   "cell_type": "code",
   "execution_count": 6,
   "id": "03693a9c",
   "metadata": {},
   "outputs": [],
   "source": [
    "def bisection(a, b, f, N_max, current_itr=0):\n",
    "    if(current_itr==N_max): return b, current_itr\n",
    "    if(b-a<0.01): return b, current_itr\n",
    "    c = (a+b)/2\n",
    "    f_c = f(c)\n",
    "    if(f_c==0): return c, current_itr\n",
    "    elif(f(a)*f_c<0): return bisection(a, c, f, N_max, current_itr+1)\n",
    "    elif(f(b)*f_c<0): return bisection(c, b, f, N_max, current_itr+1)\n"
   ]
  },
  {
   "cell_type": "code",
   "execution_count": 7,
   "id": "8172f32b",
   "metadata": {},
   "outputs": [],
   "source": [
    "def newton_raphson(x, f, f_prime, epsilon, N_max, current_itr = 0):\n",
    "    if(current_itr==N_max): return x, current_itr # returning latest approximation\n",
    "\n",
    "    f_value = f(x)\n",
    "    f_prime_value = f_prime(x)\n",
    "\n",
    "    if(f_prime_value==0): return False, current_itr\n",
    "\n",
    "    x_new = x - (f_value/f_prime_value)\n",
    "\n",
    "    if(abs(x_new-x)<epsilon): return x_new, current_itr\n",
    "\n",
    "    return newton_raphson(x_new, f, f_prime, epsilon, N_max, current_itr+1)\n",
    "\n",
    "\n"
   ]
  },
  {
   "cell_type": "code",
   "execution_count": 8,
   "id": "ca022adf",
   "metadata": {},
   "outputs": [],
   "source": [
    "def secant(x0, x1, f, epsilon, N_max, current_itr = 0):\n",
    "    if(current_itr==N_max): return x1, current_itr\n",
    "\n",
    "    f_x0 = f(x0)\n",
    "    f_x1 = f(x1)\n",
    "\n",
    "    if(f_x0==f_x1): return x0, current_itr\n",
    "\n",
    "    x2 = x1 - (f_x1 * (x1 - x0)) / (f_x1 - f_x0)\n",
    "\n",
    "    if(abs((x2-x1))<epsilon or abs(f(x2))<epsilon): return x2, current_itr\n",
    "\n",
    "    return secant(x1, x2, f, epsilon, N_max, current_itr+1)\n"
   ]
  },
  {
   "cell_type": "code",
   "execution_count": 9,
   "id": "a7b644d4",
   "metadata": {},
   "outputs": [
    {
     "name": "stdout",
     "output_type": "stream",
     "text": [
      "possible\n",
      "possible\n",
      "possible\n",
      "possible\n"
     ]
    }
   ],
   "source": [
    "a = -300\n",
    "b = 100\n",
    "\n",
    "func_list = [f1, f2, f3, f4]\n",
    "func_derivative_list = [f1_prime, f2_prime, f3_prime, f4_prime]\n",
    "for func in func_list:\n",
    "    if(func(a)*func(b)>0): print(\"change a, b\")\n",
    "    else: print(\"possible\")\n"
   ]
  },
  {
   "cell_type": "code",
   "execution_count": 10,
   "id": "554dc7a8",
   "metadata": {},
   "outputs": [
    {
     "name": "stdout",
     "output_type": "stream",
     "text": [
      " Root of equation 1 using bisection method = 0.567626953125 and in 16 no. of iterations\n",
      " Root of equation 2 using bisection method = 1.52587890625 and in 16 no. of iterations\n",
      " Root of equation 3 using bisection method = 0.74462890625 and in 16 no. of iterations\n",
      " Root of equation 4 using bisection method = -1.129150390625 and in 16 no. of iterations\n"
     ]
    }
   ],
   "source": [
    "N_max = 1000\n",
    "for i in range(len(func_list)):\n",
    "    # print(i, func_list[i](a))\n",
    "    root = bisection(a, b, func_list[i], N_max)\n",
    "    # print(root)\n",
    "    print(f\" Root of equation {i+1} using bisection method = {root[0]} and in {root[1]} no. of iterations\")"
   ]
  },
  {
   "cell_type": "code",
   "execution_count": 15,
   "id": "b7ac1267",
   "metadata": {},
   "outputs": [
    {
     "name": "stdout",
     "output_type": "stream",
     "text": [
      "Root of equation 1 using Newton_Raphson  = 0.5671432904097831 and in 4 no. of iterations\n",
      "Root of equation 2 using Newton_Raphson  = 1.5213797068045676 and in 7 no. of iterations\n",
      "Root of equation 3 using Newton_Raphson  = 0.7390851332151607 and in 20 no. of iterations\n",
      "Root of equation 4 using Newton_Raphson  = -1.1303954347672789 and in 16 no. of iterations\n"
     ]
    }
   ],
   "source": [
    "x = int(np.random.randint(5,8))\n",
    "# x= 10\n",
    "# print(x)\n",
    "epsilon = 1e-6\n",
    "N_max = 1000\n",
    "for i in range(len(func_list)):\n",
    "    # print(i, func_list[i](a))\n",
    "    root = newton_raphson(x, func_list[i], func_derivative_list[i], epsilon, N_max)\n",
    "    if(root[0]): print(f\"Root of equation {i+1} using Newton_Raphson  = {root[0]} and in {root[1]} no. of iterations\")\n",
    "    else: print(f\"Derivative = 0 for equation {i+1}\")\n"
   ]
  },
  {
   "cell_type": "code",
   "execution_count": 12,
   "id": "54f101ba",
   "metadata": {},
   "outputs": [
    {
     "name": "stdout",
     "output_type": "stream",
     "text": [
      "x0 = 92, x1 = 13\n",
      "Root of equation 1 using Secant method  = 0.5647867622608609 and in 3 no. of iterations\n",
      "Root of equation 2 using Secant method  = 1.5215095901750535 and in 11 no. of iterations\n",
      "Root of equation 3 using Secant method  = 0.7419049542630829 and in 3 no. of iterations\n",
      "Root of equation 4 using Secant method  = -1.1304433748977398 and in 19 no. of iterations\n"
     ]
    }
   ],
   "source": [
    "x0 = int(np.random.randint(100))\n",
    "x1 = int(np.random.randint(100))\n",
    "print(f\"x0 = {x0}, x1 = {x1}\")\n",
    "epsilon = 0.01\n",
    "N_max = 1000\n",
    "\n",
    "for i in range(len(func_list)):\n",
    "    root = secant(x0, x1, func_list[i], epsilon, N_max)\n",
    "    if(root): print(f\"Root of equation {i+1} using Secant method  = {root[0]} and in {root[1]} no. of iterations\")\n"
   ]
  },
  {
   "cell_type": "code",
   "execution_count": 13,
   "id": "a1d6ba73",
   "metadata": {},
   "outputs": [],
   "source": [
    "def fixed_point_itr(x_current, g, epsilon, N_max, current_itr = 0):\n",
    "    if(current_itr==N_max): return x_current, current_itr\n",
    "    # print(current_itr)\n",
    "    x_next = g(x_current)\n",
    "\n",
    "    if(abs(x_next-x_current)<epsilon): return x_next, current_itr\n",
    "\n",
    "    return fixed_point_itr(x_next, g, epsilon, N_max, current_itr+1)"
   ]
  },
  {
   "cell_type": "code",
   "execution_count": 16,
   "id": "5ffb2a93",
   "metadata": {},
   "outputs": [
    {
     "name": "stdout",
     "output_type": "stream",
     "text": [
      "x0 = 8\n",
      "Root of equation 1 using Fixed Point iteration method  = 0.5648808279436106 and in 10 no. of iterations\n",
      "Root of equation 2 using Fixed Point iteration method  = -2.45688143447979 and in 2000 no. of iterations\n",
      "Root of equation 3 using Fixed Point iteration method  = 0.7357418461170527 and in 12 no. of iterations\n",
      "Root of equation 4 using Fixed Point iteration method  = 1.9361416107100475 and in 2000 no. of iterations\n"
     ]
    }
   ],
   "source": [
    "g_list = [g1, g2, g3, g4]\n",
    "\n",
    "x0 = int(np.random.randint(10))\n",
    "# x0 = 2\n",
    "print(f\"x0 = {x0}\")\n",
    "epsilon = 0.01\n",
    "N_max = 2000\n",
    "\n",
    "for i in range(len(g_list)):\n",
    "    root = fixed_point_itr(x0, g_list[i], epsilon, N_max)\n",
    "    print(f\"Root of equation {i+1} using Fixed Point iteration method  = {root[0]} and in {root[1]} no. of iterations\")\n",
    "    # if(root[0]): print(f\"Root of equation {i+1} using Fixed Point iteration method  = {root[0]} and in {root[1]} no. of iterations\")\n",
    "    # else: print(f\"Max iterations reached for equation {i+1} using Fixed Point iteration method\")\n",
    "# root = fixed_point_itr(-1.12, g2, epsilon, N_max)\n",
    "# root"
   ]
  },
  {
   "cell_type": "code",
   "execution_count": null,
   "id": "53198566",
   "metadata": {},
   "outputs": [],
   "source": []
  },
  {
   "cell_type": "code",
   "execution_count": null,
   "id": "9fc34439",
   "metadata": {},
   "outputs": [],
   "source": []
  }
 ],
 "metadata": {
  "kernelspec": {
   "display_name": "cl249",
   "language": "python",
   "name": "python3"
  },
  "language_info": {
   "codemirror_mode": {
    "name": "ipython",
    "version": 3
   },
   "file_extension": ".py",
   "mimetype": "text/x-python",
   "name": "python",
   "nbconvert_exporter": "python",
   "pygments_lexer": "ipython3",
   "version": "3.12.8"
  }
 },
 "nbformat": 4,
 "nbformat_minor": 5
}
