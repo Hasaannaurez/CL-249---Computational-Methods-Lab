{
 "cells": [
  {
   "cell_type": "code",
   "execution_count": 122,
   "id": "4d07b252",
   "metadata": {},
   "outputs": [],
   "source": [
    "import numpy as np\n",
    "np.set_printoptions(precision=5, suppress=True)"
   ]
  },
  {
   "cell_type": "code",
   "execution_count": 123,
   "id": "321b2e58",
   "metadata": {},
   "outputs": [],
   "source": [
    "def decomposition(matrix, n):\n",
    "    for i in range(1,n):\n",
    "        e_k = matrix[i][i-1]\n",
    "        f_k_minus_1 = matrix[i-1][i-1]\n",
    "\n",
    "        matrix[i][i-1] = e_k/f_k_minus_1\n",
    "\n",
    "        e_k = matrix[i][i-1]\n",
    "        g_k_minus_1 = matrix[i-1][i]\n",
    "        matrix[i][i] = matrix[i][i] - e_k*g_k_minus_1\n",
    "    return matrix"
   ]
  },
  {
   "cell_type": "code",
   "execution_count": 124,
   "id": "5655cc44",
   "metadata": {},
   "outputs": [],
   "source": [
    "def forward_substitution(matrix, n, r):\n",
    "    for i in range(1,n):\n",
    "        e_k = matrix[i][i-1]\n",
    "        r_k_minus_1 = r[i-1][0]\n",
    "\n",
    "        r[i][0] = r[i][0] - e_k*r_k_minus_1\n",
    "    return r"
   ]
  },
  {
   "cell_type": "code",
   "execution_count": 125,
   "id": "ea36bc0a",
   "metadata": {},
   "outputs": [],
   "source": [
    "def back_substitution(matrix, n, r):\n",
    "    x = np.zeros((n,1))\n",
    "    for i in range(n):\n",
    "        x[i][0] = r[i][0]/matrix[i][i]\n",
    "    for k in range(n-2, -1, -1):\n",
    "        r_k = r[k][0]\n",
    "        g_k = matrix[k][k+1]\n",
    "        f_k = matrix[k][k]\n",
    "        x[k][0] = (r_k - g_k*x[k-1][0])/f_k\n",
    "    \n",
    "    return x"
   ]
  },
  {
   "cell_type": "code",
   "execution_count": 126,
   "id": "458c9efb",
   "metadata": {},
   "outputs": [],
   "source": [
    "def steps(matrix, r):\n",
    "    n = matrix.shape[0]\n",
    "    matrix = decomposition(matrix, n) # this will perform the decomposition step and return updated matrix\n",
    "    r = forward_substitution(matrix, n, r) # this will perform the forward_substitution step and return updated r\n",
    "    x = back_substitution(matrix, n, r) # this will perform the back_substitution step and find x\n",
    "\n",
    "    # print(x)\n",
    "    return x"
   ]
  },
  {
   "cell_type": "code",
   "execution_count": 127,
   "id": "beee596f",
   "metadata": {},
   "outputs": [
    {
     "data": {
      "text/plain": [
       "(array([[ 2.01475, -0.02088,  0.     ,  0.     ],\n",
       "        [-0.02088,  2.01475, -0.02088,  0.     ],\n",
       "        [ 0.     , -0.02088,  2.01475, -0.02088],\n",
       "        [ 0.     ,  0.     , -0.02088,  2.01475]]),\n",
       " array([[4.175 ],\n",
       "        [0.    ],\n",
       "        [0.    ],\n",
       "        [2.0875]]))"
      ]
     },
     "execution_count": 127,
     "metadata": {},
     "output_type": "execute_result"
    }
   ],
   "source": [
    "matrix = np.array([[2.01475, -0.020875, 0, 0],\n",
    "                  [-0.020875, 2.01475, -0.020875, 0],\n",
    "                  [0, -0.020875, 2.01475,  -0.020875],\n",
    "                  [0 , 0,  -0.020875, 2.01475]])\n",
    "\n",
    "r = np.array([[4.175],[0], [0], [2.0875]])\n",
    "matrix, r"
   ]
  },
  {
   "cell_type": "code",
   "execution_count": 128,
   "id": "45f5410f",
   "metadata": {},
   "outputs": [
    {
     "name": "stdout",
     "output_type": "stream",
     "text": [
      "[[2.08295]\n",
      " [0.04295]\n",
      " [0.00045]\n",
      " [1.03622]]\n"
     ]
    }
   ],
   "source": [
    "# np.set_printoptions(precision=2, suppress=True) # for getting only 2 decimal places\n",
    "\n",
    "x = steps(matrix, r)\n",
    "print(x)"
   ]
  },
  {
   "cell_type": "code",
   "execution_count": 129,
   "id": "79a898e6",
   "metadata": {},
   "outputs": [
    {
     "name": "stdout",
     "output_type": "stream",
     "text": [
      "x1 = 2.0829537856315623\n",
      "x2 = 0.04294545967812426\n",
      "x3 = 0.00044500942110667254\n",
      "x4 = 1.0362222563444323\n"
     ]
    }
   ],
   "source": [
    "for i in range(1,5):\n",
    "    print(f\"x{i} = {x[i-1][0]}\")"
   ]
  },
  {
   "cell_type": "code",
   "execution_count": null,
   "id": "836a6403",
   "metadata": {},
   "outputs": [],
   "source": []
  },
  {
   "cell_type": "code",
   "execution_count": null,
   "id": "d7ab6d9a",
   "metadata": {},
   "outputs": [],
   "source": []
  }
 ],
 "metadata": {
  "kernelspec": {
   "display_name": "cl249",
   "language": "python",
   "name": "python3"
  },
  "language_info": {
   "codemirror_mode": {
    "name": "ipython",
    "version": 3
   },
   "file_extension": ".py",
   "mimetype": "text/x-python",
   "name": "python",
   "nbconvert_exporter": "python",
   "pygments_lexer": "ipython3",
   "version": "3.12.8"
  }
 },
 "nbformat": 4,
 "nbformat_minor": 5
}
