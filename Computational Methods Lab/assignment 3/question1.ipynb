{
 "cells": [
  {
   "cell_type": "code",
   "execution_count": 183,
   "id": "476cfba3",
   "metadata": {},
   "outputs": [],
   "source": [
    "import numpy as np\n",
    "np.set_printoptions(precision=3, suppress=True) # for getting only 2 decimal places\n"
   ]
  },
  {
   "cell_type": "code",
   "execution_count": 184,
   "id": "14da055c",
   "metadata": {},
   "outputs": [],
   "source": [
    "def gauss_jordan(a):\n",
    "    n = a.shape[0]\n",
    "    i = np.identity(n)\n",
    "    matrix = np.concatenate((a,i), axis=1)\n",
    "\n",
    "    # forward elimination to U|L^-1\n",
    "    for i in range(0,n):\n",
    "        pivot = matrix[i][i]\n",
    "        for j in range(i+1, n):\n",
    "            matrix[j] = matrix[j] - (matrix[j][i]/pivot)*matrix[i]\n",
    "\n",
    "    # print(matrix)\n",
    "\n",
    "    # backward elimination to get I|A^-1\n",
    "    for i in range(n-1,-1, -1):\n",
    "        pivot = matrix[i][i]\n",
    "        for j in range(i-1, -1, -1):\n",
    "            matrix[j] = matrix[j] - (matrix[j][i]/pivot)*matrix[i]\n",
    "        matrix[i] = matrix[i]/pivot\n",
    "            \n",
    "    return matrix[:, 3:]\n"
   ]
  },
  {
   "cell_type": "code",
   "execution_count": 185,
   "id": "ad54a7b4",
   "metadata": {},
   "outputs": [],
   "source": [
    "def multiply_matrices(a, b):\n",
    "    ans = np.zeros((b.shape))\n",
    "    n = a.shape[0]\n",
    "    m = a.shape[1]\n",
    "    for i in range(n):\n",
    "        for j in range(m):\n",
    "            ans[i][0] += a[i][j]*b[j][0]\n",
    "    return ans\n"
   ]
  },
  {
   "cell_type": "code",
   "execution_count": 186,
   "id": "d89ddf8d",
   "metadata": {},
   "outputs": [
    {
     "data": {
      "text/plain": [
       "array([[15., -3., -1.],\n",
       "       [-3., 18., -6.],\n",
       "       [-4., -1., 12.]])"
      ]
     },
     "execution_count": 186,
     "metadata": {},
     "output_type": "execute_result"
    }
   ],
   "source": [
    "matrix = np.array([[15., -3., -1.], [-3., 18., -6.], [-4., -1., 12.]])\n",
    "matrix"
   ]
  },
  {
   "cell_type": "code",
   "execution_count": 187,
   "id": "8a671cba",
   "metadata": {},
   "outputs": [
    {
     "name": "stdout",
     "output_type": "stream",
     "text": [
      "Inverse using Gauss-Jordan: \n"
     ]
    },
    {
     "data": {
      "text/plain": [
       "array([[0.073, 0.013, 0.012],\n",
       "       [0.021, 0.061, 0.032],\n",
       "       [0.026, 0.009, 0.09 ]])"
      ]
     },
     "execution_count": 187,
     "metadata": {},
     "output_type": "execute_result"
    }
   ],
   "source": [
    "# i - Inverse of the given matrix\n",
    "inverse_matrix = gauss_jordan(matrix)\n",
    "print(\"Inverse using Gauss-Jordan: \")\n",
    "inverse_matrix"
   ]
  },
  {
   "cell_type": "code",
   "execution_count": 188,
   "id": "3dfd288c",
   "metadata": {},
   "outputs": [
    {
     "name": "stdout",
     "output_type": "stream",
     "text": [
      "Concentrations\n",
      "c1 = 284.559585492228\n",
      "c2 = 218.44559585492235\n",
      "c3 = 313.05699481865287\n"
     ]
    }
   ],
   "source": [
    "# ii - solution calculated using inverse\n",
    "b = np.array([[3300.], [1200.], [2400.]])\n",
    "concentrations  = multiply_matrices(inverse_matrix, b)\n",
    "print(\"Concentrations\")\n",
    "for i in range(1,4):\n",
    "    print(f\"c{i} = {concentrations[i-1][0]}\")"
   ]
  },
  {
   "cell_type": "code",
   "execution_count": 189,
   "id": "4fc6b6cb",
   "metadata": {},
   "outputs": [
    {
     "name": "stdout",
     "output_type": "stream",
     "text": [
      "New mass inputs:\n",
      "For Reactor1 new mass input = 2600.0\n",
      "For Reactor2 new mass input = 850.0\n",
      "For Reactor3 new mass input = 2400.0\n",
      "\n",
      "\n",
      "New concentrations: \n",
      "c1 = 229.30915371329883\n",
      "c2 = 182.6597582037997\n",
      "c3 = 291.6580310880829\n",
      "\n",
      "\n",
      "The amount by which the concentrations in reactor 3 should be reduced : \n",
      "delta c1 = 55.25043177892917\n",
      "delta c2 = 35.78583765112265\n",
      "delta c3 = 21.39896373056996\n"
     ]
    }
   ],
   "source": [
    "# iv - \n",
    "# if we decrease the mass input in reactor 1 and 2 by 700 and 350 respectively\n",
    "new_b = b.copy()\n",
    "new_b[0][0] -= 700\n",
    "new_b[1][0] -= 350\n",
    "print(f\"New mass inputs:\")\n",
    "for i in range(1,4):\n",
    "    print(f\"For Reactor{i} new mass input = {new_b[i-1][0]}\")\n",
    "\n",
    "print()\n",
    "print()\n",
    "\n",
    "new_concentrations = multiply_matrices(inverse_matrix, new_b)\n",
    "print(\"New concentrations: \")\n",
    "for i in range(1,4):\n",
    "    print(f\"c{i} = {new_concentrations[i-1][0]}\")\n",
    "\n",
    "print()\n",
    "print()\n",
    "\n",
    "print(\"The amount by which the concentrations in reactor 3 should be reduced : \")\n",
    "for i in range(1,4):\n",
    "    print(f\"delta c{i} = {concentrations[i-1][0]- new_concentrations[i-1][0]}\")\n",
    "# print(concentrations-new_concentrations)"
   ]
  },
  {
   "cell_type": "code",
   "execution_count": null,
   "id": "9d1d1ee1",
   "metadata": {},
   "outputs": [],
   "source": []
  }
 ],
 "metadata": {
  "kernelspec": {
   "display_name": "cl249",
   "language": "python",
   "name": "python3"
  },
  "language_info": {
   "codemirror_mode": {
    "name": "ipython",
    "version": 3
   },
   "file_extension": ".py",
   "mimetype": "text/x-python",
   "name": "python",
   "nbconvert_exporter": "python",
   "pygments_lexer": "ipython3",
   "version": "3.12.8"
  }
 },
 "nbformat": 4,
 "nbformat_minor": 5
}
