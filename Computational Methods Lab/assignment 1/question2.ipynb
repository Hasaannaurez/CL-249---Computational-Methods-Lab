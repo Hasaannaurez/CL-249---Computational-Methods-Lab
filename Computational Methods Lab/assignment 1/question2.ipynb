{
 "cells": [
  {
   "cell_type": "code",
   "execution_count": 52,
   "id": "e2be38f9",
   "metadata": {},
   "outputs": [],
   "source": [
    "import numpy as np"
   ]
  },
  {
   "cell_type": "code",
   "execution_count": null,
   "id": "3c8470c6",
   "metadata": {},
   "outputs": [],
   "source": [
    "mass_feed_kgph = 150\n",
    "mol_weights = {'P': 44, 'B': 58, 'PP': 42}\n",
    "\n",
    "\n",
    "z_feed = {'P': 0.5, 'PP': 0.2, 'B': 0.3} # Mole fractions of the feed\n",
    "\n",
    "# Average molecular weight of feed\n",
    "avg_MW = sum([z_feed[c] * mol_weights[c] for c in mol_weights])\n",
    "mol_feed = (mass_feed_kgph * 1000) / avg_MW \n",
    "\n",
    "\n",
    "comp = {\n",
    "    'T1': {'P': 0.9, 'PP': 0.08, 'B': 0.02},\n",
    "    'B1': {'P': 0.2, 'PP': 0.2, 'B': 0.6},\n",
    "    'T2': {'P': 0.95, 'PP': 0.03, 'B': 0.02},\n",
    "    'B2': {'P': 0.05, 'PP': 0.85, 'B': 0.10}\n",
    "}\n",
    "\n",
    "# Equations:\n",
    "# 1. T1 + B1 = mol_feed\n",
    "# 2. T2 + B2 = B1\n",
    "# 3. Propane balance: mol_feed * z_P = T1 * x_T1(P) + B1 * x_B1(P)\n",
    "# 4. Propylene balance: mol_feed * z_PP = T1 * x_T1(PP) + B1 * x_B1(PP)\n",
    "\n",
    "# Coefficients matrix A and RHS vector b\n",
    "A = np.array([\n",
    "    [1, 1, 0, 0],                               # T1 + B1 = F\n",
    "    [0, -1, 1, 1],                              # T2 + B2 = B1\n",
    "    [comp['T1']['P'], comp['B1']['P'], 0, 0],   # P balance\n",
    "    [comp['T1']['PP'], comp['B1']['PP'], 0, 0]  # PP balance\n",
    "])\n",
    "\n",
    "b = np.array([\n",
    "    mol_feed,\n",
    "    0,\n",
    "    mol_feed * z_feed['P'],\n",
    "    mol_feed * z_feed['PP']\n",
    "])\n"
   ]
  },
  {
   "cell_type": "code",
   "execution_count": 57,
   "id": "840e395d",
   "metadata": {},
   "outputs": [
    {
     "data": {
      "text/plain": [
       "(array([[ 1.  ,  1.  ,  0.  ,  0.  ],\n",
       "        [ 0.  , -1.  ,  1.  ,  1.  ],\n",
       "        [ 0.9 ,  0.2 ,  0.  ,  0.  ],\n",
       "        [ 0.08,  0.2 ,  0.  ,  0.  ]]),\n",
       " array([[3138.07531],\n",
       "        [   0.     ],\n",
       "        [1569.03766],\n",
       "        [ 627.61506]]))"
      ]
     },
     "execution_count": 57,
     "metadata": {},
     "output_type": "execute_result"
    }
   ],
   "source": [
    "b = b.reshape(-1, 1)\n",
    "# A.shape, b.shape\n",
    "A, b\n"
   ]
  },
  {
   "cell_type": "code",
   "execution_count": 58,
   "id": "62c5076b",
   "metadata": {},
   "outputs": [],
   "source": [
    "def LU_decomposition(a, b):\n",
    "    l  = np.zeros((len(a), len(a[0])))\n",
    "    n = len(a)\n",
    "    c = np.concatenate((a,b), axis=1)\n",
    "    for i in range(n-1):\n",
    "        max_idx_in_bottom = np.argmax(c[i:, i])\n",
    "        max_row_idx = i + max_idx_in_bottom \n",
    "\n",
    "        c[[i, max_row_idx]] = c[[max_row_idx, i]]\n",
    "        l[[i, max_row_idx]] = l[[max_row_idx, i]]\n",
    "\n",
    "        for j in range(i+1, n):\n",
    "            if(c[i][i]!=0):\n",
    "                l[j][i] = c[j][i]/c[i][i]\n",
    "                c[j] = c[j] - c[i]*(c[j][i]/c[i][i])\n",
    "            # print(\"forming l: \", l)\n",
    "    for i in range(n):\n",
    "        l[i][i]=1\n",
    "    return c, l"
   ]
  },
  {
   "cell_type": "code",
   "execution_count": null,
   "id": "9db688f2",
   "metadata": {},
   "outputs": [],
   "source": []
  },
  {
   "cell_type": "code",
   "execution_count": 59,
   "id": "53a3b958",
   "metadata": {},
   "outputs": [],
   "source": [
    "c , l= LU_decomposition(A,b)"
   ]
  },
  {
   "cell_type": "code",
   "execution_count": 60,
   "id": "a55db13b",
   "metadata": {},
   "outputs": [
    {
     "data": {
      "text/plain": [
       "array([[3138.07531],\n",
       "       [ 376.56904],\n",
       "       [3138.07531],\n",
       "       [ 941.42259]])"
      ]
     },
     "execution_count": 60,
     "metadata": {},
     "output_type": "execute_result"
    }
   ],
   "source": [
    "L = l\n",
    "U = c[:, :-1]\n",
    "b_new = c[:, -1].reshape(-1,1) \n",
    "b_new\n"
   ]
  },
  {
   "cell_type": "code",
   "execution_count": 65,
   "id": "ea5589b1",
   "metadata": {},
   "outputs": [
    {
     "name": "stdout",
     "output_type": "stream",
     "text": [
      "[[ 1.    0.    0.    0.  ]\n",
      " [ 0.08  1.    0.    0.  ]\n",
      " [ 0.   -8.33  1.    0.  ]\n",
      " [ 0.9  -5.83  0.    1.  ]]\n",
      "[[ 1.    1.    0.    0.  ]\n",
      " [ 0.    0.12  0.    0.  ]\n",
      " [ 0.   -0.    1.    1.  ]\n",
      " [ 0.    0.    0.    0.  ]]\n",
      "[[3138.08]\n",
      " [ 376.57]\n",
      " [3138.08]\n",
      " [ 941.42]]\n",
      "[[ 1.    1.    0.    0.  ]\n",
      " [ 0.   -1.    1.    1.  ]\n",
      " [ 0.9   0.2   0.    0.  ]\n",
      " [ 0.08  0.2   0.    0.  ]]\n"
     ]
    }
   ],
   "source": [
    "print(l)\n",
    "np.set_printoptions(precision=2, suppress=True) # for getting only 2 decimal places\n",
    "\n",
    "print(U)\n",
    "print(b_new)\n",
    "print(A)"
   ]
  },
  {
   "cell_type": "code",
   "execution_count": null,
   "id": "ebd89af2",
   "metadata": {},
   "outputs": [],
   "source": []
  },
  {
   "cell_type": "code",
   "execution_count": 62,
   "id": "baca2c1f",
   "metadata": {},
   "outputs": [
    {
     "name": "stdout",
     "output_type": "stream",
     "text": [
      "Back substituting got x row 3 : inf\n",
      "Back substituting got x row 2 : -inf\n",
      "Back substituting got x row 1 : nan\n",
      "Back substituting got x row 0 : nan\n"
     ]
    },
    {
     "name": "stderr",
     "output_type": "stream",
     "text": [
      "C:\\Users\\xabc0\\AppData\\Local\\Temp\\ipykernel_89820\\2206534415.py:7: RuntimeWarning: divide by zero encountered in scalar divide\n",
      "  x[row] = (b_new[row][0] - sum_ax) / U[row, row]\n",
      "C:\\Users\\xabc0\\AppData\\Local\\Temp\\ipykernel_89820\\2206534415.py:6: RuntimeWarning: invalid value encountered in dot\n",
      "  sum_ax = np.dot(U[row, row+1:], x[row+1:])\n"
     ]
    }
   ],
   "source": [
    "# Back Substitutiom\n",
    "\n",
    "n = len(b)\n",
    "x = np.zeros(n)\n",
    "for row in range(n-1, -1, -1): \n",
    "    sum_ax = np.dot(U[row, row+1:], x[row+1:])\n",
    "    x[row] = (b_new[row][0] - sum_ax) / U[row, row]\n",
    "    print(\"Back substituting got x row\", row, \":\", x[row])\n",
    "x = x\n",
    "# x.shape, x, len(x), x[0][0]\n"
   ]
  },
  {
   "cell_type": "code",
   "execution_count": null,
   "id": "f740d67a",
   "metadata": {},
   "outputs": [],
   "source": []
  }
 ],
 "metadata": {
  "kernelspec": {
   "display_name": "cl249",
   "language": "python",
   "name": "python3"
  },
  "language_info": {
   "codemirror_mode": {
    "name": "ipython",
    "version": 3
   },
   "file_extension": ".py",
   "mimetype": "text/x-python",
   "name": "python",
   "nbconvert_exporter": "python",
   "pygments_lexer": "ipython3",
   "version": "3.12.8"
  }
 },
 "nbformat": 4,
 "nbformat_minor": 5
}
