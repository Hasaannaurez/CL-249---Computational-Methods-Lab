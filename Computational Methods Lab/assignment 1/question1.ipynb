{
 "cells": [
  {
   "cell_type": "markdown",
   "id": "c1a0e7f2",
   "metadata": {},
   "source": [
    "Gauss elimination - i.e. what we do to make the matrix upper triangular \n",
    "main function:\n",
    "R(j) = R(j) - R(i)*(a(j,i)/a(i,i))\n",
    "\n",
    "but we have to ensure that the diagonal element i.e. a[i][i] !=0\n",
    "\n",
    "so for this reason what we do is whenever we go to the next set of iterations\n",
    "we will do a search for all elements in the same column beneath a[i][i], \n",
    "and we will sort them in descending order"
   ]
  },
  {
   "cell_type": "code",
   "execution_count": 16,
   "id": "cd7d3ff8",
   "metadata": {},
   "outputs": [],
   "source": [
    "import numpy as np"
   ]
  },
  {
   "cell_type": "code",
   "execution_count": 17,
   "id": "4844d6c9",
   "metadata": {},
   "outputs": [],
   "source": [
    "# taking values form assignment\n",
    "a_list = [1, 1.5, 2, 2.5, 3, 3.5, 4, 4.5]\n",
    "g_list = [2.1, 3.5, 5.0, 6.8, 9.2, 12.0, 15.3, 19.1]\n"
   ]
  },
  {
   "cell_type": "code",
   "execution_count": 18,
   "id": "7e11263c",
   "metadata": {},
   "outputs": [],
   "source": [
    "# forming matrix A\n",
    "def give_a_matrix(a_list):\n",
    "    a = np.zeros((len(a_list),8))\n",
    "    for i in range(len(a_list)):\n",
    "        for j in range(8):\n",
    "            a[i][j] = a_list[i]**j\n",
    "    return np.round(a,2)"
   ]
  },
  {
   "cell_type": "code",
   "execution_count": 19,
   "id": "2e08dc2d",
   "metadata": {},
   "outputs": [],
   "source": [
    "np.set_printoptions(precision=2, suppress=True) # for getting only 2 decimal places\n",
    "b = np.array(g_list).reshape(-1,1) # reshaped to make 2d matrix\n",
    "a = give_a_matrix(a_list)"
   ]
  },
  {
   "cell_type": "code",
   "execution_count": 20,
   "id": "73feb324",
   "metadata": {},
   "outputs": [
    {
     "name": "stdout",
     "output_type": "stream",
     "text": [
      "Matrix A: \n",
      "[[    1.       1.       1.       1.       1.       1.       1.       1.  ]\n",
      " [    1.       1.5      2.25     3.38     5.06     7.59    11.39    17.09]\n",
      " [    1.       2.       4.       8.      16.      32.      64.     128.  ]\n",
      " [    1.       2.5      6.25    15.62    39.06    97.66   244.14   610.35]\n",
      " [    1.       3.       9.      27.      81.     243.     729.    2187.  ]\n",
      " [    1.       3.5     12.25    42.88   150.06   525.22  1838.27  6433.93]\n",
      " [    1.       4.      16.      64.     256.    1024.    4096.   16384.  ]\n",
      " [    1.       4.5     20.25    91.12   410.06  1845.28  8303.77 37366.95]]\n",
      "\n",
      "Matrix b\n",
      "[[ 2.1]\n",
      " [ 3.5]\n",
      " [ 5. ]\n",
      " [ 6.8]\n",
      " [ 9.2]\n",
      " [12. ]\n",
      " [15.3]\n",
      " [19.1]]\n"
     ]
    }
   ],
   "source": [
    "# 2) printing A and b\n",
    "print(\"Matrix A: \")\n",
    "print(a)\n",
    "print()\n",
    "print(\"Matrix b\")\n",
    "print(b)"
   ]
  },
  {
   "cell_type": "code",
   "execution_count": 21,
   "id": "cd28a621",
   "metadata": {},
   "outputs": [
    {
     "name": "stdout",
     "output_type": "stream",
     "text": [
      "[[    1.       1.       1.       1.       1.       1.       1.       1.\n",
      "      2.1 ]\n",
      " [    1.       1.5      2.25     3.38     5.06     7.59    11.39    17.09\n",
      "      3.5 ]\n",
      " [    1.       2.       4.       8.      16.      32.      64.     128.\n",
      "      5.  ]\n",
      " [    1.       2.5      6.25    15.62    39.06    97.66   244.14   610.35\n",
      "      6.8 ]\n",
      " [    1.       3.       9.      27.      81.     243.     729.    2187.\n",
      "      9.2 ]\n",
      " [    1.       3.5     12.25    42.88   150.06   525.22  1838.27  6433.93\n",
      "     12.  ]\n",
      " [    1.       4.      16.      64.     256.    1024.    4096.   16384.\n",
      "     15.3 ]\n",
      " [    1.       4.5     20.25    91.12   410.06  1845.28  8303.77 37366.95\n",
      "     19.1 ]]\n"
     ]
    }
   ],
   "source": [
    "augmented_matirx = np.concatenate((a,b), axis=1)\n",
    "print(augmented_matirx)"
   ]
  },
  {
   "cell_type": "code",
   "execution_count": 22,
   "id": "5d7d93d5",
   "metadata": {},
   "outputs": [],
   "source": [
    "def gauss_elimination(a, b):\n",
    "    l  = np.zeros((len(a), len(a[0])))\n",
    "    n = len(a)\n",
    "    c = np.concatenate((a,b), axis=1)\n",
    "    for i in range(n-1):\n",
    "        l[i][i]=1\n",
    "        max_idx_in_bottom = np.argmax(c[i:, i])\n",
    "        max_row_idx = i + max_idx_in_bottom \n",
    "\n",
    "        c[[i, max_row_idx]] = c[[max_row_idx, i]]\n",
    "        for j in range(i+1, n):\n",
    "            if(c[i][i]!=0):\n",
    "                l[j][i] = c[j][i]/c[i][i]\n",
    "                c[j] = c[j] - c[i]*(c[j][i]/c[i][i])\n",
    "            # print(\"forming l: \", l)\n",
    "    return c, l"
   ]
  },
  {
   "cell_type": "code",
   "execution_count": 23,
   "id": "264736fe",
   "metadata": {},
   "outputs": [],
   "source": [
    "c , l= gauss_elimination(a,b)"
   ]
  },
  {
   "cell_type": "code",
   "execution_count": 24,
   "id": "0606fe3b",
   "metadata": {},
   "outputs": [],
   "source": [
    "L = l\n",
    "U = c[:, :-1]\n",
    "b_new = c[:, -1].reshape(-1,1) # \n"
   ]
  },
  {
   "cell_type": "code",
   "execution_count": 25,
   "id": "8b75e1c3",
   "metadata": {},
   "outputs": [
    {
     "name": "stdout",
     "output_type": "stream",
     "text": [
      "[[ 1.    0.    0.    0.    0.    0.    0.    0.  ]\n",
      " [ 1.    1.    0.    0.    0.    0.    0.    0.  ]\n",
      " [ 1.    0.29  1.    0.    0.    0.    0.    0.  ]\n",
      " [ 1.    0.43  2.    1.    0.    0.    0.    0.  ]\n",
      " [ 1.    0.57  2.    0.6   1.    0.    0.    0.  ]\n",
      " [ 1.    0.71  1.67  0.25  0.61  1.    0.    0.  ]\n",
      " [ 1.    0.86  1.67  0.9   0.77 -0.45  1.    0.  ]\n",
      " [ 1.    0.14  1.    0.75 -0.64  0.41 -0.79  0.  ]]\n"
     ]
    }
   ],
   "source": [
    "print(L) # Lower triangular matrix"
   ]
  },
  {
   "cell_type": "code",
   "execution_count": 26,
   "id": "7c26c803",
   "metadata": {},
   "outputs": [
    {
     "name": "stdout",
     "output_type": "stream",
     "text": [
      "[[     1.        1.        1.        1.        1.        1.        1.\n",
      "       1.  ]\n",
      " [     0.        3.5      19.25     90.12    409.06   1844.28   8302.77\n",
      "   37365.95]\n",
      " [     0.        0.       -1.5     -14.25    -95.62   -557.81  -3021.66\n",
      "  -15644.96]\n",
      " [     0.        0.        0.        4.99     57.5     433.75   2726.88\n",
      "   15525.94]\n",
      " [     0.        0.        0.        0.        3.03     43.7     392.\n",
      "    2815.48]\n",
      " [     0.        0.        0.        0.        0.        3.19     49.42\n",
      "     469.09]\n",
      " [     0.        0.        0.        0.       -0.        0.        0.85\n",
      "      22.29]\n",
      " [     0.        0.        0.        0.       -0.        0.        0.\n",
      "       3.99]]\n"
     ]
    }
   ],
   "source": [
    "print(U) # upper triangular matrix"
   ]
  },
  {
   "cell_type": "code",
   "execution_count": 27,
   "id": "b8a0dfcd",
   "metadata": {},
   "outputs": [
    {
     "name": "stdout",
     "output_type": "stream",
     "text": [
      "[[ 2.1 ]\n",
      " [17.  ]\n",
      " [-1.37]\n",
      " [ 0.33]\n",
      " [-0.07]\n",
      " [ 0.05]\n",
      " [-0.02]\n",
      " [-0.08]]\n"
     ]
    }
   ],
   "source": [
    "print(b_new) # this is new b after gaussian elimination"
   ]
  },
  {
   "cell_type": "code",
   "execution_count": 13,
   "id": "0decab1d",
   "metadata": {},
   "outputs": [
    {
     "name": "stdout",
     "output_type": "stream",
     "text": [
      "Back substituting got x row 7 : -0.01937192914301753\n",
      "Back substituting got x row 6 : 0.48551995485071275\n",
      "Back substituting got x row 5 : -4.656850007019507\n",
      "Back substituting got x row 4 : 22.360333101570312\n",
      "Back substituting got x row 3 : -57.78841328491206\n",
      "Back substituting got x row 2 : 80.06042994406137\n",
      "Back substituting got x row 1 : -51.93256529818258\n",
      "Back substituting got x row 0 : 13.590917518774773\n"
     ]
    }
   ],
   "source": [
    "# Back Substitutiom\n",
    "\n",
    "n = len(b)\n",
    "x = np.zeros(n)\n",
    "for row in range(n-1, -1, -1): \n",
    "    sum_ax = np.dot(U[row, row+1:], x[row+1:])\n",
    "    x[row] = (b_new[row][0] - sum_ax) / U[row, row]\n",
    "    print(\"Back substituting got x row\", row, \":\", x[row])\n",
    "x = x.reshape(-1, 1)\n",
    "# x.shape, x, len(x), x[0][0]\n"
   ]
  },
  {
   "cell_type": "code",
   "execution_count": 14,
   "id": "5023b21a",
   "metadata": {},
   "outputs": [
    {
     "name": "stdout",
     "output_type": "stream",
     "text": [
      "13.59\n",
      "-51.93\n",
      "80.06\n",
      "-57.79\n",
      "22.36\n",
      "-4.66\n",
      "0.49\n",
      "-0.02\n"
     ]
    }
   ],
   "source": [
    "# 4) final polynomial :\n",
    "# printing values of coefficients x1 to x8\n",
    "for i in range(len(x)):\n",
    "    print(round(x[i][0], 2))"
   ]
  },
  {
   "cell_type": "code",
   "execution_count": 15,
   "id": "27d44ca9",
   "metadata": {},
   "outputs": [
    {
     "name": "stdout",
     "output_type": "stream",
     "text": [
      "14.15\n"
     ]
    }
   ],
   "source": [
    "# 5) Estimating the amount of solute when a = 3.8\n",
    "a_value = 3.8\n",
    "g_sum = 0 # for storing final answer\n",
    "for i in range(len(x)):\n",
    "    g_sum  += (x[i][0])*(a_value**i)\n",
    "print(round(g_sum,2))"
   ]
  },
  {
   "cell_type": "markdown",
   "id": "b015fb3b",
   "metadata": {},
   "source": []
  },
  {
   "cell_type": "markdown",
   "id": "6245b2f0",
   "metadata": {},
   "source": []
  },
  {
   "cell_type": "markdown",
   "id": "038d4552",
   "metadata": {},
   "source": []
  }
 ],
 "metadata": {
  "kernelspec": {
   "display_name": "cl249",
   "language": "python",
   "name": "python3"
  },
  "language_info": {
   "codemirror_mode": {
    "name": "ipython",
    "version": 3
   },
   "file_extension": ".py",
   "mimetype": "text/x-python",
   "name": "python",
   "nbconvert_exporter": "python",
   "pygments_lexer": "ipython3",
   "version": "3.12.8"
  }
 },
 "nbformat": 4,
 "nbformat_minor": 5
}
