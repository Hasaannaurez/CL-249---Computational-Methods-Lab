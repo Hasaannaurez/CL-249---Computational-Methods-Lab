{
 "cells": [
  {
   "cell_type": "code",
   "execution_count": 57,
   "id": "faba7815",
   "metadata": {},
   "outputs": [],
   "source": [
    "# Newton's interpolating polynomials"
   ]
  },
  {
   "cell_type": "code",
   "execution_count": 58,
   "id": "189abad2",
   "metadata": {},
   "outputs": [],
   "source": [
    "import numpy as np\n",
    "np.set_printoptions(precision=3, suppress=True) # for getting only 2 decimal places\n"
   ]
  },
  {
   "cell_type": "code",
   "execution_count": 65,
   "id": "f1764a82",
   "metadata": {},
   "outputs": [],
   "source": [
    "x = np.array([1.6, 2, 2.5, 3.2, 4, 4.5])\n",
    "y = np.array([2, 8, 14, 15, 8, 2]) # f(x)"
   ]
  },
  {
   "cell_type": "code",
   "execution_count": 60,
   "id": "724cb59a",
   "metadata": {},
   "outputs": [],
   "source": [
    "def newton_divided_diff_interpolation(x, y, n, value):\n",
    "    dd = np.zeros((n+1, n+1))\n",
    "\n",
    "    for i in range(0, n):\n",
    "        dd[i][0] = y[i]\n",
    "\n",
    "    for j in range(1, n):\n",
    "        for i in range(0, n-j):\n",
    "            dd[i][j] = (dd[i+1][j-1] - dd[i][j-1])/ (x[i+j]- x[i])\n",
    "    \n",
    "    result = dd[0][0]\n",
    "    product = 1\n",
    "\n",
    "    for k in range(1,n):\n",
    "        product = product* (value - x[k-1])\n",
    "        result = result + dd[0][k] * product\n",
    "    \n",
    "    return result"
   ]
  },
  {
   "cell_type": "code",
   "execution_count": 61,
   "id": "f6b817b6",
   "metadata": {},
   "outputs": [
    {
     "name": "stdout",
     "output_type": "stream",
     "text": [
      "F(2.8) = 2.0 using Newton's polynomial of order - 1\n",
      "F(2.8) = 20.0 using Newton's polynomial of order - 2\n",
      "F(2.8) = 16.8 using Newton's polynomial of order - 3\n"
     ]
    }
   ],
   "source": [
    "# finding f(2.8) using Newton's polynomial for order - 1, 2, 3\n",
    "# if the order is m then we have to pass m+1 points to the function to get the output and the corresponding order funtion\n",
    "\n",
    "for i in range(1,4):\n",
    "    value = 2.8\n",
    "    f_value = round(float(newton_divided_diff_interpolation(x[:i+1], y[:i+1], i, value)), 2)\n",
    "    print(f\"F(2.8) = {f_value} using Newton's polynomial of order - {i}\")\n"
   ]
  },
  {
   "cell_type": "code",
   "execution_count": 62,
   "id": "c9aee9cd",
   "metadata": {},
   "outputs": [],
   "source": [
    "# now in order to form a polynomial of order m we know that we need m+1 points\n",
    "# and we want to find the f_x for value\n",
    "# therefore we should choose those m+1 points that are most relevant for value\n",
    "# what I will do:\n",
    "# sort the dataset x and y, then if order is m then\n",
    "# if value<x[0] then take the starting m+1 points\n",
    "# if value<x[-1] then take the last m+1 points\n",
    "# else if find the idx in which value>x[idx-1] && x[idx]>value\n",
    "# take m+1//2 points from idx to ahead\n",
    "# take m-1//2 points from idx-1 to behind\n",
    "# if take many points are not available on either side then accordingly adjust it to the other side"
   ]
  },
  {
   "cell_type": "code",
   "execution_count": 69,
   "id": "373f7644",
   "metadata": {},
   "outputs": [],
   "source": [
    "def main_function(x, y, order, value):\n",
    "    x_sort = np.sort(x)\n",
    "    y_sort = np.sort(y)\n",
    "\n",
    "\n",
    "\n",
    "    if(value<x_sort[0]):\n",
    "        idx = 0\n",
    "    elif(value>x_sort[-1]):\n",
    "        idx = len(x_sort)\n",
    "    # finding idx\n",
    "    else:\n",
    "        for i in range(1, len(x)):\n",
    "            if(value>x_sort[i-1] and value<=x_sort[i]):\n",
    "                idx = i\n",
    "\n",
    "    # now we need order+1 points\n",
    "\n",
    "    #  checking whether i have m+1//2 points on the right side or not\n",
    "\n",
    "    total_points = order+1\n",
    "    points_needed_from_right = (total_points)//2\n",
    "    points_needed_from_left = total_points - points_needed_from_right\n",
    "\n",
    "    extra_points_needed_from_left = 0\n",
    "    extra_points_needed_from_right = 0\n",
    "\n",
    "    if(len(x_sort)-idx< points_needed_from_right):\n",
    "        extra_points_needed_from_left = (points_needed_from_right) - (len(x_sort)-idx)\n",
    "        points_needed_from_right = len(x_sort)-idx\n",
    "        \n",
    "\n",
    "    elif(idx<points_needed_from_left):\n",
    "        extra_points_needed_from_right = points_needed_from_left-idx\n",
    "        points_needed_from_left = idx\n",
    "        \n",
    "\n",
    "\n",
    "    # print(idx)\n",
    "    # print(points_needed_from_left, extra_points_needed_from_left)\n",
    "    # print(points_needed_from_right, extra_points_needed_from_right)\n",
    "    x_useful = x[idx-points_needed_from_left-extra_points_needed_from_left : idx+ points_needed_from_right+ extra_points_needed_from_right]\n",
    "    y_useful = y[idx-points_needed_from_left-extra_points_needed_from_left : idx+ points_needed_from_right+ extra_points_needed_from_right]\n",
    "\n",
    "    print(F\"Points chosen: \")\n",
    "    for i in range(len(x_useful)):\n",
    "        print(f\"({x_useful[i]}, {y_useful[i]})\", end=\" \")\n",
    "\n",
    "    print()\n",
    "    # print(order, value)\n",
    "    # print(x_useful)\n",
    "    # print(y_useful)\n",
    "\n",
    "    f_x = round(float(newton_divided_diff_interpolation(x_useful, y_useful, order, value)), 3)\n",
    "\n",
    "    print(f\"F({value}) = {f_x}\")"
   ]
  },
  {
   "cell_type": "code",
   "execution_count": 71,
   "id": "00aaaffe",
   "metadata": {},
   "outputs": [
    {
     "name": "stdout",
     "output_type": "stream",
     "text": [
      "For order - 1\n",
      "Points chosen: \n",
      "(2.5, 14) (3.2, 15) \n",
      "F(2.8) = 14.0\n",
      "\n",
      "For order - 2\n",
      "Points chosen: \n",
      "(2.0, 8) (2.5, 14) (3.2, 15) \n",
      "F(2.8) = 17.6\n",
      "\n",
      "For order - 3\n",
      "Points chosen: \n",
      "(2.0, 8) (2.5, 14) (3.2, 15) (4.0, 8) \n",
      "F(2.8) = 15.486\n",
      "\n"
     ]
    }
   ],
   "source": [
    "for i in range(1,4):\n",
    "    value = 2.8\n",
    "    print(f\"For order - {i}\")\n",
    "    main_function(x, y, i, value)\n",
    "    print()\n",
    "    # print(f\"F(2.8) = {f_value} using Newton's polynomial of order - {i}\")"
   ]
  },
  {
   "cell_type": "code",
   "execution_count": 75,
   "id": "e123b721",
   "metadata": {},
   "outputs": [
    {
     "name": "stdout",
     "output_type": "stream",
     "text": [
      "Entered order = 3\n",
      "Entered value = 4.0\n",
      "Points chosen: \n",
      "(2.5, 14) (3.2, 15) (4.0, 8) (4.5, 2) \n",
      "F(4.0) = 8.0\n"
     ]
    }
   ],
   "source": [
    "def take_input_and_find():\n",
    "    order = int(input()) # m\n",
    "    value = float(input())\n",
    "\n",
    "    print(f\"Entered order = {order}\")\n",
    "    print(f\"Entered value = {value}\")\n",
    "\n",
    "    main_function(x,y, order, value)\n",
    "\n",
    "take_input_and_find()"
   ]
  }
 ],
 "metadata": {
  "kernelspec": {
   "display_name": "jupyter_env",
   "language": "python",
   "name": "python3"
  },
  "language_info": {
   "codemirror_mode": {
    "name": "ipython",
    "version": 3
   },
   "file_extension": ".py",
   "mimetype": "text/x-python",
   "name": "python",
   "nbconvert_exporter": "python",
   "pygments_lexer": "ipython3",
   "version": "3.10.18"
  }
 },
 "nbformat": 4,
 "nbformat_minor": 5
}
