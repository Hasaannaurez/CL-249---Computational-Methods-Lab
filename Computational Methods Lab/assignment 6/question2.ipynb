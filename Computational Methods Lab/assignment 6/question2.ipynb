{
 "cells": [
  {
   "cell_type": "code",
   "execution_count": 2,
   "id": "5b7877b1",
   "metadata": {},
   "outputs": [],
   "source": [
    "import numpy as np"
   ]
  },
  {
   "cell_type": "code",
   "execution_count": 16,
   "id": "a3ee1527",
   "metadata": {},
   "outputs": [],
   "source": [
    "def exp_f(x):\n",
    "    return np.exp(x)"
   ]
  },
  {
   "cell_type": "code",
   "execution_count": 18,
   "id": "ce524ace",
   "metadata": {},
   "outputs": [],
   "source": [
    "def h_2_1st_derivative(x, h, f):\n",
    "    return (f(x+h) - f(x-h))/(2*h)\n",
    "\n",
    "# [f(x+h) − 2f(x) + f(x–h)] / h² \n",
    "def h_2_2nd_derivative(x, h, f):\n",
    "    return (f(x+h) - 2*f(x) + f(x-h))/(h**2)\n",
    "\n",
    "# [–f(x+2h) + 8f(x+h) – 8f(x–h) + f(x–2h)] / (12h) \n",
    "def h_4_1st_derivative(x, h, f):\n",
    "    return (-1*f(x+2*h) + 8*f(x+h) - 8*f(x-h) + f(x-2*h))/(12*h)\n",
    "\n",
    "#  [–f(x+2h) + 16f(x+h) – 30f(x) + 16f(x–h) – f(x–2h)] / (12h²) \n",
    "def h_4_2nd_derivative(x, h, f):\n",
    "    return (-1*f(x+2*h) + 16*f(x+h) - 30*f(x) + 16*f(x-h) -f(x-2*h))/(12*(h**2))\n"
   ]
  },
  {
   "cell_type": "code",
   "execution_count": 22,
   "id": "024d6692",
   "metadata": {},
   "outputs": [
    {
     "name": "stdout",
     "output_type": "stream",
     "text": [
      "For x = 2 anh h = 1, derivatives :\n",
      "First deriavtive by O(h^2) = 8.683627547364312\n",
      "First deriavtive by O(h^4) = 7.1116575603903955\n",
      "Second deriavtive by O(h^2) = 8.025706553785412\n",
      "Second deriavtive by O(h^4) = 7.299272252106971\n"
     ]
    }
   ],
   "source": [
    "print(f\"For x = 2 anh h = 1, derivatives :\")\n",
    "print(f\"First deriavtive by O(h^2) = {float(h_2_1st_derivative(2, 1, exp_f))}\")\n",
    "print(f\"First deriavtive by O(h^4) = {float(h_4_1st_derivative(2, 1, exp_f))}\")\n",
    "print(f\"Second deriavtive by O(h^2) = {float(h_2_2nd_derivative(2, 1, exp_f))}\")\n",
    "print(f\"Second deriavtive by O(h^4) = {float(h_4_2nd_derivative(2, 1, exp_f))}\")\n"
   ]
  },
  {
   "cell_type": "code",
   "execution_count": null,
   "id": "3c9b6440",
   "metadata": {},
   "outputs": [],
   "source": []
  }
 ],
 "metadata": {
  "kernelspec": {
   "display_name": "cl249",
   "language": "python",
   "name": "python3"
  },
  "language_info": {
   "codemirror_mode": {
    "name": "ipython",
    "version": 3
   },
   "file_extension": ".py",
   "mimetype": "text/x-python",
   "name": "python",
   "nbconvert_exporter": "python",
   "pygments_lexer": "ipython3",
   "version": "3.12.8"
  }
 },
 "nbformat": 4,
 "nbformat_minor": 5
}
