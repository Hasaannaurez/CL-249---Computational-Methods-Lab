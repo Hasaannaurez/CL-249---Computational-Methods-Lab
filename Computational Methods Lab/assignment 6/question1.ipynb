{
 "cells": [
  {
   "cell_type": "code",
   "execution_count": 39,
   "id": "b11b1e16",
   "metadata": {},
   "outputs": [],
   "source": [
    "import numpy as np"
   ]
  },
  {
   "cell_type": "code",
   "execution_count": null,
   "id": "3bb72da7",
   "metadata": {},
   "outputs": [],
   "source": [
    "\n"
   ]
  },
  {
   "cell_type": "code",
   "execution_count": 41,
   "id": "76b254ae",
   "metadata": {},
   "outputs": [],
   "source": [
    "def f(x):\n",
    "    X = np.array([0,10,20,30,45,60,75])\n",
    "    Y = np.array([0.4,0.7,0.8,0.9,1.05,1.2,1.35])\n",
    "    return Y[int(np.where(X == x)[0][0])]"
   ]
  },
  {
   "cell_type": "code",
   "execution_count": 42,
   "id": "418e5bb6",
   "metadata": {},
   "outputs": [],
   "source": [
    "#  [f(x+h) − f(x–h)] / (2h) - central\n",
    "def central(x, h, f):\n",
    "    return (f(x+h) - f(x-h))/(2*h)\n",
    "\n",
    "def forward(x, h, f):\n",
    "    return (-3*f(x) + 4*f(x+h) -f(x+(2*h)))/(2*h)\n",
    "\n",
    "def backward(x, h, f):\n",
    "    return (3*f(x) - 4*f(x-h) + f(x-(2*h)))/(2*h)\n",
    "\n"
   ]
  },
  {
   "cell_type": "code",
   "execution_count": 43,
   "id": "424bd220",
   "metadata": {},
   "outputs": [
    {
     "data": {
      "text/plain": [
       "[0.03999999999999998,\n",
       " 0.02,\n",
       " 0.010000000000000004,\n",
       " 0.009999999999999998,\n",
       " 0.009999999999999998,\n",
       " 0.010000000000000002,\n",
       " 0.010000000000000031]"
      ]
     },
     "execution_count": 43,
     "metadata": {},
     "output_type": "execute_result"
    }
   ],
   "source": [
    "X = np.array([0,10,20,30,45,60,75])\n",
    "Y = np.array([0.4,0.7,0.8,0.9,1.05,1.2,1.35])\n",
    "\n",
    "\n",
    "\n",
    "derivative = []\n",
    "i = 0\n",
    "\n",
    "derivative.append(float(forward(X[i], X[i+1]-X[i], f)))\n",
    "i+=1\n",
    "\n",
    "while(X[i+1]-X[i]==10):\n",
    "    derivative.append(float(central(X[i], X[i+1]-X[i], f)))\n",
    "    i+=1\n",
    "\n",
    "derivative.append(float(backward(X[i], X[i]-X[i-1], f)))\n",
    "i+=1\n",
    "\n",
    "while(i<len(X)-1 and X[i+1]-X[i]==15):\n",
    "    derivative.append(float(central(X[i], X[i+1]-X[i], f)))\n",
    "    i+=1\n",
    "\n",
    "derivative.append(float(backward(X[i], X[i]-X[i-1], f)))\n",
    "\n",
    "\n",
    "derivative"
   ]
  },
  {
   "cell_type": "code",
   "execution_count": 44,
   "id": "bda8fe4e",
   "metadata": {},
   "outputs": [
    {
     "name": "stdout",
     "output_type": "stream",
     "text": [
      "At time = 0, Flow rate = 0.03999999999999998\n",
      "At time = 10, Flow rate = 0.02\n",
      "At time = 20, Flow rate = 0.010000000000000004\n",
      "At time = 30, Flow rate = 0.009999999999999998\n",
      "At time = 45, Flow rate = 0.009999999999999998\n",
      "At time = 60, Flow rate = 0.010000000000000002\n",
      "At time = 75, Flow rate = 0.010000000000000031\n"
     ]
    }
   ],
   "source": [
    "for i in range(len(X)):\n",
    "    print(f\"At time = {X[i]}, Flow rate = {derivative[i]}\")"
   ]
  }
 ],
 "metadata": {
  "kernelspec": {
   "display_name": "cl249",
   "language": "python",
   "name": "python3"
  },
  "language_info": {
   "codemirror_mode": {
    "name": "ipython",
    "version": 3
   },
   "file_extension": ".py",
   "mimetype": "text/x-python",
   "name": "python",
   "nbconvert_exporter": "python",
   "pygments_lexer": "ipython3",
   "version": "3.12.8"
  }
 },
 "nbformat": 4,
 "nbformat_minor": 5
}
