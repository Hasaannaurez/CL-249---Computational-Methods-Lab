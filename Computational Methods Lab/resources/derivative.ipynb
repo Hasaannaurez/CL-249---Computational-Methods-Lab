{
 "cells": [
  {
   "cell_type": "code",
   "execution_count": 2,
   "id": "9caaee6e",
   "metadata": {},
   "outputs": [
    {
     "ename": "ModuleNotFoundError",
     "evalue": "No module named 'sympy'",
     "output_type": "error",
     "traceback": [
      "\u001b[31m---------------------------------------------------------------------------\u001b[39m",
      "\u001b[31mModuleNotFoundError\u001b[39m                       Traceback (most recent call last)",
      "\u001b[36mCell\u001b[39m\u001b[36m \u001b[39m\u001b[32mIn[2]\u001b[39m\u001b[32m, line 1\u001b[39m\n\u001b[32m----> \u001b[39m\u001b[32m1\u001b[39m \u001b[38;5;28;01mimport\u001b[39;00m\u001b[38;5;250m \u001b[39m\u001b[34;01msympy\u001b[39;00m\u001b[38;5;250m \u001b[39m\u001b[38;5;28;01mas\u001b[39;00m\u001b[38;5;250m \u001b[39m\u001b[34;01msp\u001b[39;00m\n\u001b[32m      3\u001b[39m \u001b[38;5;66;03m# Define the variable\u001b[39;00m\n\u001b[32m      4\u001b[39m x = sp.symbols(\u001b[33m'\u001b[39m\u001b[33mx\u001b[39m\u001b[33m'\u001b[39m)\n",
      "\u001b[31mModuleNotFoundError\u001b[39m: No module named 'sympy'"
     ]
    }
   ],
   "source": [
    "import sympy as sp\n",
    "\n",
    "# Define the variable\n",
    "x = sp.symbols('x')\n",
    "\n",
    "# Define the function\n",
    "f = x**3 + 2*x**2 + 5*x + 7\n",
    "\n",
    "# Differentiate the function\n",
    "derivative = sp.diff(f, x)\n",
    "\n",
    "print(\"Function:\", f)\n",
    "print(\"Derivative:\", derivative)\n"
   ]
  },
  {
   "cell_type": "code",
   "execution_count": 9,
   "id": "9937ba1a",
   "metadata": {},
   "outputs": [
    {
     "name": "stdout",
     "output_type": "stream",
     "text": [
      "f(x) = 33\n",
      "Derivative at x = 2 is 25.000000000119368\n"
     ]
    }
   ],
   "source": [
    "def derivative(f, x, h=1e-5):\n",
    "    \"\"\"\n",
    "    Approximate derivative of function f at point x\n",
    "    using the central difference method.\n",
    "    \n",
    "    f : function\n",
    "    x : point at which derivative is evaluated\n",
    "    h : small step (default 1e-5)\n",
    "    \"\"\"\n",
    "    return (f(x + h) - f(x - h)) / (2 * h)\n",
    "\n",
    "# Example usage:\n",
    "f = lambda x: x**3 + 2*x**2 + 5*x + 7\n",
    "\n",
    "x0 = 2\n",
    "print(\"f(x) =\", f(x0))\n",
    "print(\"Derivative at x =\", x0, \"is\", derivative(f, x0))\n"
   ]
  },
  {
   "cell_type": "code",
   "execution_count": null,
   "id": "75549ce6",
   "metadata": {},
   "outputs": [],
   "source": []
  }
 ],
 "metadata": {
  "kernelspec": {
   "display_name": "cl249",
   "language": "python",
   "name": "python3"
  },
  "language_info": {
   "codemirror_mode": {
    "name": "ipython",
    "version": 3
   },
   "file_extension": ".py",
   "mimetype": "text/x-python",
   "name": "python",
   "nbconvert_exporter": "python",
   "pygments_lexer": "ipython3",
   "version": "3.12.8"
  }
 },
 "nbformat": 4,
 "nbformat_minor": 5
}
